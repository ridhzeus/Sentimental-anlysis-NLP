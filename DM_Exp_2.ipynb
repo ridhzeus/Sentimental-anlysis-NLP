{
 "cells": [
  {
   "cell_type": "code",
   "execution_count": 1,
   "id": "1d016b3b",
   "metadata": {},
   "outputs": [],
   "source": [
    "#pip install nltk\n",
    "#nltk.download('all')\n",
    "#nltk.download('wordnet')\n",
    "#nltk.download('stopwords')"
   ]
  },
  {
   "cell_type": "code",
   "execution_count": 2,
   "id": "dfc3319f",
   "metadata": {},
   "outputs": [],
   "source": [
    "import pandas as pd\n",
    "import numpy as np\n",
    "import matplotlib.pyplot as plt\n",
    "from sklearn.feature_extraction.text import TfidfVectorizer\n",
    "from sklearn.model_selection import train_test_split\n",
    "from sklearn.naive_bayes import GaussianNB\n",
    "import re\n",
    "import string\n",
    "import nltk\n",
    "from nltk.stem import WordNetLemmatizer\n",
    "from sklearn.preprocessing import LabelEncoder\n",
    "from sklearn.metrics import accuracy_score\n",
    "from sklearn.linear_model import LogisticRegression\n",
    "from sklearn.metrics import recall_score\n",
    "from sklearn.metrics import precision_score\n",
    "from sklearn.metrics import f1_score\n",
    "from sklearn.metrics import confusion_matrix"
   ]
  },
  {
   "cell_type": "code",
   "execution_count": 3,
   "id": "8350836d",
   "metadata": {},
   "outputs": [],
   "source": [
    "df1=pd.read_csv(\"politics.csv\")\n",
    "df2=pd.read_csv(\"sports.csv\")\n",
    "df3=pd.read_csv(\"music.csv\")"
   ]
  },
  {
   "cell_type": "code",
   "execution_count": 4,
   "id": "1d72e8a4",
   "metadata": {},
   "outputs": [],
   "source": [
    "df=pd.concat([df1,df2,df3])"
   ]
  },
  {
   "cell_type": "code",
   "execution_count": 5,
   "id": "3e1835f4",
   "metadata": {},
   "outputs": [],
   "source": [
    "df=df.sample(frac=1)"
   ]
  },
  {
   "cell_type": "code",
   "execution_count": 6,
   "id": "5df05f33",
   "metadata": {},
   "outputs": [
    {
     "name": "stdout",
     "output_type": "stream",
     "text": [
      "Index(['Unnamed: 0', 'Tweet', 'Date', 'Like', 'Retweet', 'Comment', 'Output'], dtype='object')\n"
     ]
    }
   ],
   "source": [
    "print(df.columns)"
   ]
  },
  {
   "cell_type": "code",
   "execution_count": 7,
   "id": "0bcf4c9e",
   "metadata": {},
   "outputs": [],
   "source": [
    "df=df.drop('Date',axis=1)\n",
    "df=df.drop('Unnamed: 0',axis=1)"
   ]
  },
  {
   "cell_type": "code",
   "execution_count": 8,
   "id": "a5e5f4f0",
   "metadata": {},
   "outputs": [
    {
     "data": {
      "text/html": [
       "<div>\n",
       "<style scoped>\n",
       "    .dataframe tbody tr th:only-of-type {\n",
       "        vertical-align: middle;\n",
       "    }\n",
       "\n",
       "    .dataframe tbody tr th {\n",
       "        vertical-align: top;\n",
       "    }\n",
       "\n",
       "    .dataframe thead th {\n",
       "        text-align: right;\n",
       "    }\n",
       "</style>\n",
       "<table border=\"1\" class=\"dataframe\">\n",
       "  <thead>\n",
       "    <tr style=\"text-align: right;\">\n",
       "      <th></th>\n",
       "      <th>Tweet</th>\n",
       "      <th>Like</th>\n",
       "      <th>Retweet</th>\n",
       "      <th>Comment</th>\n",
       "      <th>Output</th>\n",
       "    </tr>\n",
       "  </thead>\n",
       "  <tbody>\n",
       "    <tr>\n",
       "      <th>49</th>\n",
       "      <td>वंदे भारत ट्रेन भारत की स्पीड और स्केल दोनों क...</td>\n",
       "      <td>5663</td>\n",
       "      <td>1973</td>\n",
       "      <td>146</td>\n",
       "      <td>Politics</td>\n",
       "    </tr>\n",
       "    <tr>\n",
       "      <th>19</th>\n",
       "      <td>A very special moment from Tripura earlier tod...</td>\n",
       "      <td>11075</td>\n",
       "      <td>2695</td>\n",
       "      <td>389</td>\n",
       "      <td>Politics</td>\n",
       "    </tr>\n",
       "    <tr>\n",
       "      <th>47</th>\n",
       "      <td>इस बार का बजट मध्यम वर्ग को और मजबूती देने का ...</td>\n",
       "      <td>7290</td>\n",
       "      <td>2275</td>\n",
       "      <td>415</td>\n",
       "      <td>Politics</td>\n",
       "    </tr>\n",
       "    <tr>\n",
       "      <th>23</th>\n",
       "      <td>\"Our thoughts and prayers are with the victims...</td>\n",
       "      <td>420</td>\n",
       "      <td>57</td>\n",
       "      <td>7</td>\n",
       "      <td>Sports</td>\n",
       "    </tr>\n",
       "    <tr>\n",
       "      <th>41</th>\n",
       "      <td>वंदे भारत रेल्वेगाडी भारताची गती आणि व्याप्ती ...</td>\n",
       "      <td>5104</td>\n",
       "      <td>1779</td>\n",
       "      <td>128</td>\n",
       "      <td>Politics</td>\n",
       "    </tr>\n",
       "  </tbody>\n",
       "</table>\n",
       "</div>"
      ],
      "text/plain": [
       "                                                Tweet   Like  Retweet  \\\n",
       "49  वंदे भारत ट्रेन भारत की स्पीड और स्केल दोनों क...   5663     1973   \n",
       "19  A very special moment from Tripura earlier tod...  11075     2695   \n",
       "47  इस बार का बजट मध्यम वर्ग को और मजबूती देने का ...   7290     2275   \n",
       "23  \"Our thoughts and prayers are with the victims...    420       57   \n",
       "41  वंदे भारत रेल्वेगाडी भारताची गती आणि व्याप्ती ...   5104     1779   \n",
       "\n",
       "    Comment    Output  \n",
       "49      146  Politics  \n",
       "19      389  Politics  \n",
       "47      415  Politics  \n",
       "23        7    Sports  \n",
       "41      128  Politics  "
      ]
     },
     "execution_count": 8,
     "metadata": {},
     "output_type": "execute_result"
    }
   ],
   "source": [
    "df.head()"
   ]
  },
  {
   "cell_type": "code",
   "execution_count": 9,
   "id": "af0ef0aa",
   "metadata": {},
   "outputs": [],
   "source": [
    "#remove link and emoji\n",
    "def preprocess(text):\n",
    "    text=re.sub(r\"(?i)\\b((?:https?://|www\\d{0,3}[.]|[a-z0-9.\\-]+[.][a-z]{2,4}/)(?:[^\\s()<>]+|\\(([^\\s()<>]+|(\\([^\\s()<>]+\\)))*\\))+(?:\\(([^\\s()<>]+|(\\([^\\s()<>]+\\)))*\\)|[^\\s`!()\\[\\]{};:'\\\".,<>?«»“”‘’]))\",'',text)\n",
    "    text=text.strip().replace('\\n', '')\n",
    "    text=\"\".join([i for i in text if i not in string.punctuation])\n",
    "    \n",
    "    emoji_pattern = re.compile(\"[\"\n",
    "        u\"\\U0001F600-\\U0001F64F\"\n",
    "        u\"\\U0001F300-\\U0001F5FF\"\n",
    "        u\"\\U0001F680-\\U0001F6FF\"\n",
    "        u\"\\U0001F1E0-\\U0001F1FF\"\n",
    "                           \"]+\", flags=re.UNICODE)\n",
    "    text=emoji_pattern.sub(r'', text)\n",
    "    \n",
    "    text=re.sub(r'\\s+', ' ', text)\n",
    "    return text.lower()"
   ]
  },
  {
   "cell_type": "code",
   "execution_count": 10,
   "id": "3d13cd87",
   "metadata": {},
   "outputs": [],
   "source": [
    "#function call to preprocess content of tweet is put in preprocessed text \n",
    "df['preprocess_text1']=df['Tweet'].apply(lambda x: preprocess(x))"
   ]
  },
  {
   "cell_type": "code",
   "execution_count": 11,
   "id": "1d7399fc",
   "metadata": {},
   "outputs": [
    {
     "data": {
      "text/html": [
       "<div>\n",
       "<style scoped>\n",
       "    .dataframe tbody tr th:only-of-type {\n",
       "        vertical-align: middle;\n",
       "    }\n",
       "\n",
       "    .dataframe tbody tr th {\n",
       "        vertical-align: top;\n",
       "    }\n",
       "\n",
       "    .dataframe thead th {\n",
       "        text-align: right;\n",
       "    }\n",
       "</style>\n",
       "<table border=\"1\" class=\"dataframe\">\n",
       "  <thead>\n",
       "    <tr style=\"text-align: right;\">\n",
       "      <th></th>\n",
       "      <th>Tweet</th>\n",
       "      <th>Like</th>\n",
       "      <th>Retweet</th>\n",
       "      <th>Comment</th>\n",
       "      <th>Output</th>\n",
       "      <th>preprocess_text1</th>\n",
       "    </tr>\n",
       "  </thead>\n",
       "  <tbody>\n",
       "    <tr>\n",
       "      <th>49</th>\n",
       "      <td>वंदे भारत ट्रेन भारत की स्पीड और स्केल दोनों क...</td>\n",
       "      <td>5663</td>\n",
       "      <td>1973</td>\n",
       "      <td>146</td>\n",
       "      <td>Politics</td>\n",
       "      <td>वंदे भारत ट्रेन भारत की स्पीड और स्केल दोनों क...</td>\n",
       "    </tr>\n",
       "    <tr>\n",
       "      <th>19</th>\n",
       "      <td>A very special moment from Tripura earlier tod...</td>\n",
       "      <td>11075</td>\n",
       "      <td>2695</td>\n",
       "      <td>389</td>\n",
       "      <td>Politics</td>\n",
       "      <td>a very special moment from tripura earlier tod...</td>\n",
       "    </tr>\n",
       "    <tr>\n",
       "      <th>47</th>\n",
       "      <td>इस बार का बजट मध्यम वर्ग को और मजबूती देने का ...</td>\n",
       "      <td>7290</td>\n",
       "      <td>2275</td>\n",
       "      <td>415</td>\n",
       "      <td>Politics</td>\n",
       "      <td>इस बार का बजट मध्यम वर्ग को और मजबूती देने का ...</td>\n",
       "    </tr>\n",
       "    <tr>\n",
       "      <th>23</th>\n",
       "      <td>\"Our thoughts and prayers are with the victims...</td>\n",
       "      <td>420</td>\n",
       "      <td>57</td>\n",
       "      <td>7</td>\n",
       "      <td>Sports</td>\n",
       "      <td>our thoughts and prayers are with the victims ...</td>\n",
       "    </tr>\n",
       "    <tr>\n",
       "      <th>41</th>\n",
       "      <td>वंदे भारत रेल्वेगाडी भारताची गती आणि व्याप्ती ...</td>\n",
       "      <td>5104</td>\n",
       "      <td>1779</td>\n",
       "      <td>128</td>\n",
       "      <td>Politics</td>\n",
       "      <td>वंदे भारत रेल्वेगाडी भारताची गती आणि व्याप्ती ...</td>\n",
       "    </tr>\n",
       "  </tbody>\n",
       "</table>\n",
       "</div>"
      ],
      "text/plain": [
       "                                                Tweet   Like  Retweet  \\\n",
       "49  वंदे भारत ट्रेन भारत की स्पीड और स्केल दोनों क...   5663     1973   \n",
       "19  A very special moment from Tripura earlier tod...  11075     2695   \n",
       "47  इस बार का बजट मध्यम वर्ग को और मजबूती देने का ...   7290     2275   \n",
       "23  \"Our thoughts and prayers are with the victims...    420       57   \n",
       "41  वंदे भारत रेल्वेगाडी भारताची गती आणि व्याप्ती ...   5104     1779   \n",
       "\n",
       "    Comment    Output                                   preprocess_text1  \n",
       "49      146  Politics  वंदे भारत ट्रेन भारत की स्पीड और स्केल दोनों क...  \n",
       "19      389  Politics  a very special moment from tripura earlier tod...  \n",
       "47      415  Politics  इस बार का बजट मध्यम वर्ग को और मजबूती देने का ...  \n",
       "23        7    Sports  our thoughts and prayers are with the victims ...  \n",
       "41      128  Politics  वंदे भारत रेल्वेगाडी भारताची गती आणि व्याप्ती ...  "
      ]
     },
     "execution_count": 11,
     "metadata": {},
     "output_type": "execute_result"
    }
   ],
   "source": [
    "df.head()"
   ]
  },
  {
   "cell_type": "code",
   "execution_count": 12,
   "id": "05006efe",
   "metadata": {},
   "outputs": [],
   "source": [
    "#tokenization and lemitization\n",
    "def preprocess_more(text):\n",
    "    tokens = re.split(' ',text)\n",
    "    stopwords=nltk.corpus.stopwords.words('english')\n",
    "    tokens= [i for i in tokens if i not in stopwords]\n",
    "    lemmatizer=WordNetLemmatizer()\n",
    "    lemm_text = [lemmatizer.lemmatize(word) for word in tokens]\n",
    "    lemm_text=\" \".join(lemm_text)\n",
    "    return lemm_text"
   ]
  },
  {
   "cell_type": "code",
   "execution_count": 13,
   "id": "7f4ab7e3",
   "metadata": {},
   "outputs": [],
   "source": [
    "df['preprocess_text']=df['preprocess_text1'].apply(lambda x: preprocess_more(x))"
   ]
  },
  {
   "cell_type": "code",
   "execution_count": 14,
   "id": "4130b9dd",
   "metadata": {},
   "outputs": [],
   "source": [
    "#actual tweet droped actual text emoji removed\n",
    "df=df.drop('Tweet',axis=1)\n",
    "df=df.drop('preprocess_text1',axis=1)"
   ]
  },
  {
   "cell_type": "code",
   "execution_count": 15,
   "id": "cfb80d68",
   "metadata": {},
   "outputs": [
    {
     "data": {
      "text/plain": [
       "Index(['Like', 'Retweet', 'Comment', 'Output', 'preprocess_text'], dtype='object')"
      ]
     },
     "execution_count": 15,
     "metadata": {},
     "output_type": "execute_result"
    }
   ],
   "source": [
    "df.columns"
   ]
  },
  {
   "cell_type": "code",
   "execution_count": 16,
   "id": "32415755",
   "metadata": {},
   "outputs": [],
   "source": [
    "X=df[['Like', 'Retweet', 'Comment','preprocess_text']]"
   ]
  },
  {
   "cell_type": "code",
   "execution_count": 17,
   "id": "faff8e51",
   "metadata": {},
   "outputs": [],
   "source": [
    "y=df['Output']"
   ]
  },
  {
   "cell_type": "code",
   "execution_count": 18,
   "id": "61db4a74",
   "metadata": {},
   "outputs": [],
   "source": [
    "X_train,X_test,y_train,y_test=train_test_split(X,y,test_size=0.1)"
   ]
  },
  {
   "cell_type": "code",
   "execution_count": 19,
   "id": "fe0ea5ab",
   "metadata": {},
   "outputs": [
    {
     "data": {
      "text/plain": [
       "(272, 4)"
      ]
     },
     "execution_count": 19,
     "metadata": {},
     "output_type": "execute_result"
    }
   ],
   "source": [
    "X_train.shape"
   ]
  },
  {
   "cell_type": "code",
   "execution_count": 20,
   "id": "f2838d26",
   "metadata": {},
   "outputs": [
    {
     "data": {
      "text/html": [
       "<div>\n",
       "<style scoped>\n",
       "    .dataframe tbody tr th:only-of-type {\n",
       "        vertical-align: middle;\n",
       "    }\n",
       "\n",
       "    .dataframe tbody tr th {\n",
       "        vertical-align: top;\n",
       "    }\n",
       "\n",
       "    .dataframe thead th {\n",
       "        text-align: right;\n",
       "    }\n",
       "</style>\n",
       "<table border=\"1\" class=\"dataframe\">\n",
       "  <thead>\n",
       "    <tr style=\"text-align: right;\">\n",
       "      <th></th>\n",
       "      <th>Like</th>\n",
       "      <th>Retweet</th>\n",
       "      <th>Comment</th>\n",
       "      <th>preprocess_text</th>\n",
       "    </tr>\n",
       "  </thead>\n",
       "  <tbody>\n",
       "    <tr>\n",
       "      <th>3</th>\n",
       "      <td>107141</td>\n",
       "      <td>6968</td>\n",
       "      <td>1629</td>\n",
       "      <td>motivating hoe</td>\n",
       "    </tr>\n",
       "    <tr>\n",
       "      <th>62</th>\n",
       "      <td>124</td>\n",
       "      <td>11</td>\n",
       "      <td>8</td>\n",
       "      <td>part programme fifa delivered 38900 football s...</td>\n",
       "    </tr>\n",
       "    <tr>\n",
       "      <th>40</th>\n",
       "      <td>6503</td>\n",
       "      <td>1948</td>\n",
       "      <td>227</td>\n",
       "      <td>सार्वजनिक वाहतूक व्यवस्था जेवढी आधुनिक बनेल ते...</td>\n",
       "    </tr>\n",
       "    <tr>\n",
       "      <th>23</th>\n",
       "      <td>371</td>\n",
       "      <td>31</td>\n",
       "      <td>13</td>\n",
       "      <td>expensiveprada puuurrrrr</td>\n",
       "    </tr>\n",
       "    <tr>\n",
       "      <th>30</th>\n",
       "      <td>9059</td>\n",
       "      <td>634</td>\n",
       "      <td>1106</td>\n",
       "      <td>necessarily cause bring enough awareness infla...</td>\n",
       "    </tr>\n",
       "  </tbody>\n",
       "</table>\n",
       "</div>"
      ],
      "text/plain": [
       "      Like  Retweet  Comment  \\\n",
       "3   107141     6968     1629   \n",
       "62     124       11        8   \n",
       "40    6503     1948      227   \n",
       "23     371       31       13   \n",
       "30    9059      634     1106   \n",
       "\n",
       "                                      preprocess_text  \n",
       "3                                      motivating hoe  \n",
       "62  part programme fifa delivered 38900 football s...  \n",
       "40  सार्वजनिक वाहतूक व्यवस्था जेवढी आधुनिक बनेल ते...  \n",
       "23                           expensiveprada puuurrrrr  \n",
       "30  necessarily cause bring enough awareness infla...  "
      ]
     },
     "execution_count": 20,
     "metadata": {},
     "output_type": "execute_result"
    }
   ],
   "source": [
    "X_train.head()"
   ]
  },
  {
   "cell_type": "code",
   "execution_count": 21,
   "id": "bd07f01e",
   "metadata": {},
   "outputs": [],
   "source": [
    "X_train_text=X_train['preprocess_text']\n",
    "X_test_text=X_test['preprocess_text']"
   ]
  },
  {
   "cell_type": "code",
   "execution_count": 22,
   "id": "40ca5c1d",
   "metadata": {},
   "outputs": [],
   "source": [
    "tf_idf=TfidfVectorizer(ngram_range=(1,2)) "
   ]
  },
  {
   "cell_type": "code",
   "execution_count": 23,
   "id": "59d347dd",
   "metadata": {},
   "outputs": [],
   "source": [
    "text_feature_train=tf_idf.fit_transform(X_train_text)\n",
    "text_feature_test=tf_idf.transform(X_test_text)"
   ]
  },
  {
   "cell_type": "code",
   "execution_count": 24,
   "id": "35290b8f",
   "metadata": {},
   "outputs": [],
   "source": [
    "x_train=X_train.drop('preprocess_text',axis=1)\n",
    "x_test=X_test.drop('preprocess_text',axis=1)"
   ]
  },
  {
   "cell_type": "code",
   "execution_count": 25,
   "id": "fa82e1a9",
   "metadata": {},
   "outputs": [
    {
     "data": {
      "text/plain": [
       "(272, 3)"
      ]
     },
     "execution_count": 25,
     "metadata": {},
     "output_type": "execute_result"
    }
   ],
   "source": [
    "x_train.shape"
   ]
  },
  {
   "cell_type": "code",
   "execution_count": 26,
   "id": "264dcc47",
   "metadata": {},
   "outputs": [],
   "source": [
    "X_train=x_train.values\n",
    "X_test=x_test.values"
   ]
  },
  {
   "cell_type": "code",
   "execution_count": 27,
   "id": "8487727a",
   "metadata": {},
   "outputs": [],
   "source": [
    "#google meaning\n",
    "x_train=np.hstack((X_train,text_feature_train.toarray()))\n",
    "x_test=np.hstack((X_test,text_feature_test.toarray()))"
   ]
  },
  {
   "cell_type": "code",
   "execution_count": 28,
   "id": "786d0307",
   "metadata": {},
   "outputs": [
    {
     "data": {
      "text/plain": [
       "68     Politics\n",
       "31     Politics\n",
       "100    Politics\n",
       "17        Music\n",
       "98       Sports\n",
       "87       Sports\n",
       "72        Music\n",
       "96        Music\n",
       "20        Music\n",
       "93        Music\n",
       "31       Sports\n",
       "48        Music\n",
       "100      Sports\n",
       "12        Music\n",
       "63        Music\n",
       "39     Politics\n",
       "47     Politics\n",
       "4      Politics\n",
       "71       Sports\n",
       "45     Politics\n",
       "60        Music\n",
       "26     Politics\n",
       "95     Politics\n",
       "43        Music\n",
       "54        Music\n",
       "7      Politics\n",
       "92        Music\n",
       "79       Sports\n",
       "41        Music\n",
       "31        Music\n",
       "80       Sports\n",
       "Name: Output, dtype: object"
      ]
     },
     "execution_count": 28,
     "metadata": {},
     "output_type": "execute_result"
    }
   ],
   "source": [
    "y_test"
   ]
  },
  {
   "cell_type": "code",
   "execution_count": 29,
   "id": "b258d88b",
   "metadata": {},
   "outputs": [],
   "source": [
    "#3 the category poli 1 entertai 0 sports 2\n",
    "cv=LabelEncoder()"
   ]
  },
  {
   "cell_type": "code",
   "execution_count": 30,
   "id": "b3c18b21",
   "metadata": {},
   "outputs": [],
   "source": [
    "y_train=cv.fit_transform(y_train)\n",
    "y_test=cv.transform(y_test)"
   ]
  },
  {
   "cell_type": "code",
   "execution_count": 31,
   "id": "eb5306ec",
   "metadata": {},
   "outputs": [
    {
     "data": {
      "text/plain": [
       "array([1, 1, 1, 0, 2, 2, 0, 0, 0, 0, 2, 0, 2, 0, 0, 1, 1, 1, 2, 1, 0, 1,\n",
       "       1, 0, 0, 1, 0, 2, 0, 0, 2])"
      ]
     },
     "execution_count": 31,
     "metadata": {},
     "output_type": "execute_result"
    }
   ],
   "source": [
    "y_test"
   ]
  },
  {
   "cell_type": "code",
   "execution_count": 32,
   "id": "63dbffe0",
   "metadata": {},
   "outputs": [
    {
     "data": {
      "text/plain": [
       "GaussianNB()"
      ]
     },
     "execution_count": 32,
     "metadata": {},
     "output_type": "execute_result"
    }
   ],
   "source": [
    "nb=GaussianNB()\n",
    "nb.fit(x_train,y_train)"
   ]
  },
  {
   "cell_type": "code",
   "execution_count": 33,
   "id": "4419af29",
   "metadata": {},
   "outputs": [],
   "source": [
    "y_pred=nb.predict(x_test)"
   ]
  },
  {
   "cell_type": "code",
   "execution_count": 34,
   "id": "e7da30e6",
   "metadata": {},
   "outputs": [
    {
     "data": {
      "text/plain": [
       "array([[7, 5, 2],\n",
       "       [0, 7, 3],\n",
       "       [0, 0, 7]], dtype=int64)"
      ]
     },
     "execution_count": 34,
     "metadata": {},
     "output_type": "execute_result"
    }
   ],
   "source": [
    "cm=confusion_matrix(y_test,y_pred)\n",
    "cm\n"
   ]
  },
  {
   "cell_type": "code",
   "execution_count": 35,
   "id": "956afacb",
   "metadata": {},
   "outputs": [
    {
     "name": "stdout",
     "output_type": "stream",
     "text": [
      "Gaussian Naive Bias\n",
      "67.74193548387096\n",
      "recall score:  67.74193548387096\n",
      "precision score:  77.15053763440862\n",
      "f1 score:  67.27375623810259\n"
     ]
    }
   ],
   "source": [
    "print(\"Gaussian Naive Bias\")\n",
    "print(accuracy_score(y_test,y_pred)*100)\n",
    "\n",
    "\n",
    "recall=recall_score(y_test,y_pred,average='weighted')*100\n",
    "print(\"recall score: \", recall)\n",
    "precision=precision_score(y_test,y_pred,average='weighted')*100\n",
    "print(\"precision score: \",precision)\n",
    "f1=f1_score(y_test,y_pred,average='weighted')*100\n",
    "print(\"f1 score: \",f1)"
   ]
  },
  {
   "cell_type": "code",
   "execution_count": 36,
   "id": "57bc14e6",
   "metadata": {},
   "outputs": [
    {
     "data": {
      "image/png": "[encoded data removed]",
      "text/plain": [
       "<Figure size 432x288 with 2 Axes>"
      ]
     },
     "metadata": {
      "needs_background": "light"
     },
     "output_type": "display_data"
    }
   ],
   "source": [
    "import seaborn as sn\n",
    "sn.heatmap(cm,annot=True).set(title='Naive Bayes')\n",
    "plt.show()"
   ]
  },
  {
   "cell_type": "code",
   "execution_count": 37,
   "id": "f4129053",
   "metadata": {},
   "outputs": [
    {
     "name": "stderr",
     "output_type": "stream",
     "text": [
      "C:\\ProgramData\\Anaconda3\\lib\\site-packages\\sklearn\\linear_model\\_logistic.py:814: ConvergenceWarning: lbfgs failed to converge (status=1):\n",
      "STOP: TOTAL NO. of ITERATIONS REACHED LIMIT.\n",
      "\n",
      "Increase the number of iterations (max_iter) or scale the data as shown in:\n",
      "    https://scikit-learn.org/stable/modules/preprocessing.html\n",
      "Please also refer to the documentation for alternative solver options:\n",
      "    https://scikit-learn.org/stable/modules/linear_model.html#logistic-regression\n",
      "  n_iter_i = _check_optimize_result(\n"
     ]
    },
    {
     "data": {
      "text/plain": [
       "LogisticRegression()"
      ]
     },
     "execution_count": 37,
     "metadata": {},
     "output_type": "execute_result"
    }
   ],
   "source": [
    "lr=LogisticRegression()\n",
    "lr.fit(x_train,y_train)"
   ]
  },
  {
   "cell_type": "code",
   "execution_count": 38,
   "id": "5d270eb1",
   "metadata": {},
   "outputs": [],
   "source": [
    "y_pred1=lr.predict(x_test)"
   ]
  },
  {
   "cell_type": "code",
   "execution_count": 39,
   "id": "d08b20af",
   "metadata": {},
   "outputs": [
    {
     "data": {
      "text/plain": [
       "array([[7, 5, 2],\n",
       "       [0, 7, 3],\n",
       "       [0, 0, 7]], dtype=int64)"
      ]
     },
     "execution_count": 39,
     "metadata": {},
     "output_type": "execute_result"
    }
   ],
   "source": [
    "cm=confusion_matrix(y_test,y_pred)\n",
    "cm\n"
   ]
  },
  {
   "cell_type": "code",
   "execution_count": 40,
   "id": "8c874632",
   "metadata": {},
   "outputs": [
    {
     "name": "stdout",
     "output_type": "stream",
     "text": [
      "Logistic Regression\n",
      "67.74193548387096\n",
      "recall score:  67.74193548387096\n",
      "precision score:  77.15053763440862\n",
      "f1 score:  67.27375623810259\n"
     ]
    }
   ],
   "source": [
    "print(\"Logistic Regression\")\n",
    "\n",
    "print(accuracy_score(y_test,y_pred)*100)\n",
    "recall=recall_score(y_test,y_pred,average='weighted')*100\n",
    "print(\"recall score: \", recall)\n",
    "precision=precision_score(y_test,y_pred,average='weighted')*100\n",
    "print(\"precision score: \",precision)\n",
    "f1=f1_score(y_test,y_pred,average='weighted')*100\n",
    "print(\"f1 score: \",f1)"
   ]
  },
  {
   "cell_type": "code",
   "execution_count": 41,
   "id": "ea03423c",
   "metadata": {},
   "outputs": [
    {
     "data": {
      "image/png": "[encoded data removed]",
      "text/plain": [
       "<Figure size 432x288 with 2 Axes>"
      ]
     },
     "metadata": {
      "needs_background": "light"
     },
     "output_type": "display_data"
    }
   ],
   "source": [
    "import seaborn as sn\n",
    "sn.heatmap(cm,annot=True).set(title='Naive Bayes')\n",
    "plt.show()"
   ]
  },
  {
   "cell_type": "code",
   "execution_count": null,
   "id": "10c70317",
   "metadata": {},
   "outputs": [],
   "source": []
  }
 ],
 "metadata": {
  "kernelspec": {
   "display_name": "Python 3 (ipykernel)",
   "language": "python",
   "name": "python3"
  },
  "language_info": {
   "codemirror_mode": {
    "name": "ipython",
    "version": 3
   },
   "file_extension": ".py",
   "mimetype": "text/x-python",
   "name": "python",
   "nbconvert_exporter": "python",
   "pygments_lexer": "ipython3",
   "version": "3.9.12"
  }
 },
 "nbformat": 4,
 "nbformat_minor": 5
}
